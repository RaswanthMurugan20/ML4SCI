{
  "cells": [
    {
      "cell_type": "markdown",
      "metadata": {
        "id": "view-in-github",
        "colab_type": "text"
      },
      "source": [
        "<a href=\"https://colab.research.google.com/github/RaswanthMurugan20/ML4SCI/blob/main/Graph_Neural_Network.ipynb\" target=\"_parent\"><img src=\"https://colab.research.google.com/assets/colab-badge.svg\" alt=\"Open In Colab\"/></a>"
      ]
    },
    {
      "cell_type": "code",
      "execution_count": 1,
      "metadata": {
        "colab": {
          "base_uri": "https://localhost:8080/"
        },
        "id": "M8kIW06tTriN",
        "outputId": "8affd033-9e34-469b-b6ed-7587a5595c14"
      },
      "outputs": [
        {
          "output_type": "stream",
          "name": "stdout",
          "text": [
            "1.10.0+cu111\n",
            "11.1\n",
            "False\n",
            "/usr/local/cuda/bin:/opt/bin:/usr/local/nvidia/bin:/usr/local/cuda/bin:/usr/local/sbin:/usr/local/bin:/usr/sbin:/usr/bin:/sbin:/bin:/tools/node/bin:/tools/google-cloud-sdk/bin\n",
            "/usr/local/cuda/include:\n",
            "/usr/local/cuda/lib64:/usr/local/nvidia/lib:/usr/local/nvidia/lib64\n",
            "Writing to /root/.config/pip/pip.conf\n",
            "Looking in links: https://pytorch-geometric.com/whl/torch-1.10.0+cu111.html\n",
            "Collecting torch-scatter\n",
            "  Downloading https://data.pyg.org/whl/torch-1.10.0%2Bcu113/torch_scatter-2.0.9-cp37-cp37m-linux_x86_64.whl (7.9 MB)\n",
            "Installing collected packages: torch-scatter\n",
            "Successfully installed torch-scatter-2.0.9\n",
            "Looking in links: https://pytorch-geometric.com/whl/torch-1.10.0+cu111.html\n",
            "Collecting torch-sparse\n",
            "  Downloading https://data.pyg.org/whl/torch-1.10.0%2Bcu113/torch_sparse-0.6.13-cp37-cp37m-linux_x86_64.whl (3.5 MB)\n",
            "Requirement already satisfied: scipy in /usr/local/lib/python3.7/dist-packages (from torch-sparse) (1.4.1)\n",
            "Requirement already satisfied: numpy>=1.13.3 in /usr/local/lib/python3.7/dist-packages (from scipy->torch-sparse) (1.21.5)\n",
            "Installing collected packages: torch-sparse\n",
            "Successfully installed torch-sparse-0.6.13\n",
            "Looking in links: https://pytorch-geometric.com/whl/torch-1.10.0+cu111.html\n",
            "Collecting torch-cluster\n",
            "  Downloading https://data.pyg.org/whl/torch-1.10.0%2Bcu113/torch_cluster-1.6.0-cp37-cp37m-linux_x86_64.whl (2.5 MB)\n",
            "Installing collected packages: torch-cluster\n",
            "Successfully installed torch-cluster-1.6.0\n",
            "Looking in links: https://pytorch-geometric.com/whl/torch-1.10.0+cu111.html\n",
            "Collecting torch-spline-conv\n",
            "  Downloading https://data.pyg.org/whl/torch-1.10.0%2Bcu113/torch_spline_conv-1.2.1-cp37-cp37m-linux_x86_64.whl (750 kB)\n",
            "Installing collected packages: torch-spline-conv\n",
            "Successfully installed torch-spline-conv-1.2.1\n",
            "Collecting torch-geometric\n",
            "  Downloading torch_geometric-2.0.4.tar.gz (407 kB)\n",
            "Requirement already satisfied: tqdm in /usr/local/lib/python3.7/dist-packages (from torch-geometric) (4.64.0)\n",
            "Requirement already satisfied: numpy in /usr/local/lib/python3.7/dist-packages (from torch-geometric) (1.21.5)\n",
            "Requirement already satisfied: scipy in /usr/local/lib/python3.7/dist-packages (from torch-geometric) (1.4.1)\n",
            "Requirement already satisfied: pandas in /usr/local/lib/python3.7/dist-packages (from torch-geometric) (1.3.5)\n",
            "Requirement already satisfied: jinja2 in /usr/local/lib/python3.7/dist-packages (from torch-geometric) (2.11.3)\n",
            "Requirement already satisfied: requests in /usr/local/lib/python3.7/dist-packages (from torch-geometric) (2.23.0)\n",
            "Requirement already satisfied: pyparsing in /usr/local/lib/python3.7/dist-packages (from torch-geometric) (3.0.8)\n",
            "Requirement already satisfied: scikit-learn in /usr/local/lib/python3.7/dist-packages (from torch-geometric) (1.0.2)\n",
            "Requirement already satisfied: MarkupSafe>=0.23 in /usr/local/lib/python3.7/dist-packages (from jinja2->torch-geometric) (2.0.1)\n",
            "Requirement already satisfied: pytz>=2017.3 in /usr/local/lib/python3.7/dist-packages (from pandas->torch-geometric) (2018.9)\n",
            "Requirement already satisfied: python-dateutil>=2.7.3 in /usr/local/lib/python3.7/dist-packages (from pandas->torch-geometric) (2.8.2)\n",
            "Requirement already satisfied: six>=1.5 in /usr/local/lib/python3.7/dist-packages (from python-dateutil>=2.7.3->pandas->torch-geometric) (1.15.0)\n",
            "Requirement already satisfied: idna<3,>=2.5 in /usr/local/lib/python3.7/dist-packages (from requests->torch-geometric) (2.10)\n",
            "Requirement already satisfied: chardet<4,>=3.0.2 in /usr/local/lib/python3.7/dist-packages (from requests->torch-geometric) (3.0.4)\n",
            "Requirement already satisfied: certifi>=2017.4.17 in /usr/local/lib/python3.7/dist-packages (from requests->torch-geometric) (2021.10.8)\n",
            "Requirement already satisfied: urllib3!=1.25.0,!=1.25.1,<1.26,>=1.21.1 in /usr/local/lib/python3.7/dist-packages (from requests->torch-geometric) (1.24.3)\n",
            "Requirement already satisfied: joblib>=0.11 in /usr/local/lib/python3.7/dist-packages (from scikit-learn->torch-geometric) (1.1.0)\n",
            "Requirement already satisfied: threadpoolctl>=2.0.0 in /usr/local/lib/python3.7/dist-packages (from scikit-learn->torch-geometric) (3.1.0)\n",
            "Building wheels for collected packages: torch-geometric\n",
            "  Building wheel for torch-geometric (setup.py): started\n",
            "  Building wheel for torch-geometric (setup.py): finished with status 'done'\n",
            "  Created wheel for torch-geometric: filename=torch_geometric-2.0.4-py3-none-any.whl size=616603 sha256=722149722a7bf351ff8ac983f21cb8031ab1e7d782d5948b9b5a31b038df3528\n",
            "  Stored in directory: /content/false/wheels/18/a6/a4/ca18c3051fcead866fe7b85700ee2240d883562a1bc70ce421\n",
            "Successfully built torch-geometric\n",
            "Installing collected packages: torch-geometric\n",
            "Successfully installed torch-geometric-2.0.4\n",
            "Requirement already satisfied: torch in /usr/local/lib/python3.7/dist-packages (1.10.0+cu111)\n",
            "Requirement already satisfied: torchvision in /usr/local/lib/python3.7/dist-packages (0.11.1+cu111)\n",
            "Requirement already satisfied: typing-extensions in /usr/local/lib/python3.7/dist-packages (from torch) (4.1.1)\n",
            "Requirement already satisfied: numpy in /usr/local/lib/python3.7/dist-packages (from torchvision) (1.21.5)\n",
            "Requirement already satisfied: pillow!=8.3.0,>=5.3.0 in /usr/local/lib/python3.7/dist-packages (from torchvision) (7.1.2)\n"
          ]
        }
      ],
      "source": [
        "%%bash \n",
        "python -c \"import torch; print(torch.__version__)\"\n",
        "python -c \"import torch; print(torch.version.cuda)\"\n",
        "python -c \"import torch; print(torch.cuda.is_available())\"\n",
        "export PATH=/usr/local/cuda/bin:$PATH\n",
        "echo $PATH\n",
        "export CPATH=/usr/local/cuda/include:$CPATH\n",
        "echo $CPATH\n",
        "export LD_LIBRARY_PATH=/usr/local/cuda/lib64:$LD_LIBRARY_PATH\n",
        "echo $LD_LIBRARY_PATH\n",
        "\n",
        "sudo -H pip config set global.cache-dir false\n",
        "pip install torch-scatter -f https://pytorch-geometric.com/whl/torch-1.10.0+cu111.html\n",
        "pip install torch-sparse -f https://pytorch-geometric.com/whl/torch-1.10.0+cu111.html\n",
        "pip install torch-cluster -f https://pytorch-geometric.com/whl/torch-1.10.0+cu111.html\n",
        "pip install torch-spline-conv -f https://pytorch-geometric.com/whl/torch-1.10.0+cu111.html\n",
        "pip install torch-geometric\n",
        "pip install torch torchvision"
      ]
    },
    {
      "cell_type": "code",
      "execution_count": 2,
      "metadata": {
        "id": "6jFNSdmPVhrX"
      },
      "outputs": [],
      "source": [
        "%matplotlib inline\n",
        "import matplotlib.pyplot as plt\n",
        "from mpl_toolkits.mplot3d import Axes3D\n",
        "import torch\n",
        "import torch.nn as nn\n",
        "import torch.nn.functional as F\n",
        "import torch.utils.data as data\n",
        "import torch.optim as optim\n",
        "import numpy as np \n",
        "import torch_geometric\n",
        "import torch_geometric.nn as geom_nn\n",
        "import torch_geometric.data as geom_data\n",
        "from torch_cluster import knn_graph\n",
        "import math\n",
        "from torch.utils.tensorboard import SummaryWriter\n",
        "writer = SummaryWriter()"
      ]
    },
    {
      "cell_type": "code",
      "execution_count": 3,
      "metadata": {
        "colab": {
          "base_uri": "https://localhost:8080/"
        },
        "id": "obBmx7yXG1Qc",
        "outputId": "077205b3-2800-4995-df27-8f5b076b6a23"
      },
      "outputs": [
        {
          "output_type": "stream",
          "name": "stdout",
          "text": [
            "cpu\n"
          ]
        }
      ],
      "source": [
        "CUDA_LAUNCH_BLOCKING = 1 \n",
        "device = torch.device(\"cuda:0\" if torch.cuda.is_available() else \"cpu\")\n",
        "# device = \"cpu\"\n",
        "print(device)"
      ]
    },
    {
      "cell_type": "code",
      "source": [
        "from google.colab import drive\n",
        "drive.mount('/content/drive')\n",
        "!cp /content/drive/MyDrive/QG_jets_withbc_10.npz /content/"
      ],
      "metadata": {
        "colab": {
          "base_uri": "https://localhost:8080/"
        },
        "id": "INNGbAokDlZr",
        "outputId": "e3a3b87f-5fc9-4f2f-b32a-91692f085199"
      },
      "execution_count": 4,
      "outputs": [
        {
          "output_type": "stream",
          "name": "stdout",
          "text": [
            "Mounted at /content/drive\n"
          ]
        }
      ]
    },
    {
      "cell_type": "code",
      "execution_count": 5,
      "metadata": {
        "id": "BoKnpKUyWtbo"
      },
      "outputs": [],
      "source": [
        "data = np.load('/content/QG_jets_withbc_10.npz')\n",
        "x, y = data[data.files[0]], data[data.files[1]]"
      ]
    },
    {
      "cell_type": "code",
      "execution_count": 6,
      "metadata": {
        "id": "tp4jdEAQOEJv"
      },
      "outputs": [],
      "source": [
        "\"\"\"\n",
        "ADDITIONAL FEATURES\n",
        "\n",
        "* q  -  electric charge of the particle \n",
        "* isElectron - if the particle is an electron \n",
        "* isMuon - if the particle is a muon\n",
        "* isChargedHadron - if the particle is a charged hadron \n",
        "* isNeutralHadron - if the particle is a neutral hadron\n",
        "* isPhoton - if the particle is a photon\n",
        "\n",
        "reference : - https://arxiv.org/abs/1902.08570\n",
        "\n",
        "The pdgid dictionary returns features according to the PDGID value \n",
        "\n",
        "\"\"\"  \n",
        "\n",
        "pdgid = {\n",
        "    -11: np.array([-1,1,0,0,0,0]), \n",
        "     11: np.array([1,1,0,0,0,0]),\n",
        "     13: np.array([-1,0,1,0,0,0]),\n",
        "    -13: np.array([1,0,1,0,0,0]), \n",
        "     22: np.array([0,0,0,0,0,1]),\n",
        "    130: np.array([0,0,0,0,1,0]), \n",
        "    211: np.array([1,0,0,1,0,0]), \n",
        "   -211: np.array([-1,0,0,1,0,0]), \n",
        "    321: np.array([1,0,0,1,0,0]), \n",
        "   -321: np.array([-1,0,0,1,0,0]), \n",
        "   2112: np.array([0,0,0,0,1,0]), \n",
        "  -2112: np.array([0,0,0,0,1,0]), \n",
        "   2212: np.array([1,0,0,1,0,0]), \n",
        "  -2212: np.array([-1,0,0,1,0,0]), \n",
        "      0: np.array([0,0,0,0,0,0])\n",
        "}"
      ]
    },
    {
      "cell_type": "code",
      "execution_count": 7,
      "metadata": {
        "id": "4BY1OkVITyYH"
      },
      "outputs": [],
      "source": [
        "def FeatureAdd(input):\n",
        "  new_features = np.concatenate([pdgid[a][np.newaxis,:] for a in input[:,3]], axis = 0)\n",
        "  # input\n",
        "  # np.concatenate((input,new_features),axis = 1)\n",
        "  return input\n",
        "\n",
        "# creating a dataset\n",
        "def GnnDataset(a,b):\n",
        "    dataset = []\n",
        "    n = a.shape[1]\n",
        "    for i in range(a.shape[0]):\n",
        "      Jet = torch_geometric.data.data.Data()\n",
        "      Jet.x = torch.tensor(FeatureAdd(a[i])).float()\n",
        "      Jet.edge_index = knn_graph(torch.tensor(a[i]).float(), k = 16, loop=True) \n",
        "      Jet.y = torch.tensor(b[i]).float()\n",
        "      Jet.num_nodes = n\n",
        "      dataset.append(Jet.to(device))\n",
        "    return dataset"
      ]
    },
    {
      "cell_type": "code",
      "execution_count": 8,
      "metadata": {
        "id": "_Tk_2VWIu16F"
      },
      "outputs": [],
      "source": [
        "dataset = GnnDataset(x,y)"
      ]
    },
    {
      "cell_type": "code",
      "execution_count": 9,
      "metadata": {
        "id": "QWB_i-71Xgnt"
      },
      "outputs": [],
      "source": [
        "from torch.nn import Sequential, Linear, ReLU\n",
        "from torch_geometric.nn import MessagePassing\n",
        "from torch_geometric.nn import global_max_pool\n",
        "\n",
        "# Edge Convolution Layer\n",
        "\n",
        "class ParticleNetLayer(MessagePassing):\n",
        "    def __init__(self, in_channels, out_channels):\n",
        "        # Message passing with \"max\" aggregation.\n",
        "        super().__init__(aggr='max')\n",
        "        \n",
        "        self.mlp = Sequential(Linear(in_channels + 2, out_channels),\n",
        "                              ReLU(),\n",
        "                              Linear(out_channels, out_channels))\n",
        "        \n",
        "    def forward(self, x, edge_index):\n",
        "        # Start propagating messages.\n",
        "        return self.propagate(edge_index, x=x)\n",
        "    \n",
        "    def message(self, x_j, x_i):\n",
        "        # pos is used to compute the distance between the nodes, \n",
        "        # it uses rapidity and azimuthal angle of each particle in the jet \n",
        "        # for computing the distance\n",
        "\n",
        "        pos = x_i[:,1:3] - x_j[:,1:3]\n",
        "        input = torch.cat([x_i, pos], dim=1) \n",
        "\n",
        "        return self.mlp(input)  # Apply our final MLP."
      ]
    },
    {
      "cell_type": "code",
      "source": [
        "class ParticleNet(torch.nn.Module):\n",
        "    def __init__(self):\n",
        "        super().__init__()\n",
        "\n",
        "        np.random.seed(0)\n",
        "        self.Edgeconv1 = ParticleNetLayer(4, 32)\n",
        "        self.Edgeconv2 = ParticleNetLayer(32, 64)\n",
        "        self.Linear = Linear(64, 1)\n",
        "        self.Sigmoid = nn.Sigmoid()\n",
        "\n",
        "    def forward(self, data, batch):\n",
        "\n",
        "        edge_index = data.edge_index\n",
        "        x = data.x\n",
        "\n",
        "        # Compute the kNN graph:\n",
        "        # Here, we need to pass the batch vector to the function call in order\n",
        "        # to prevent creating edges between points of different examples.\n",
        "        # We also add `loop=True` which will add self-loops to the graph in\n",
        "        # order to preserve central point information.\n",
        "        \n",
        "        x = self.Edgeconv1(x=x, edge_index=edge_index)\n",
        "        x = x.relu()\n",
        "        x = self.Edgeconv2(x=x, edge_index=edge_index)\n",
        "        x = x.relu()\n",
        "\n",
        "        # # 4. Global Pooling.\n",
        "        x = global_max_pool(x, batch)  # [num_examples, hidden_channels]\n",
        "\n",
        "        # 5. Classifier.\n",
        "        return self.Sigmoid(self.Linear(x))\n",
        "\n",
        "\n",
        "model = ParticleNet()\n",
        "print(model)"
      ],
      "metadata": {
        "id": "p9iGdxzvuku4",
        "colab": {
          "base_uri": "https://localhost:8080/"
        },
        "outputId": "b0b6dae6-07c1-4675-eda8-1ffc0f2930cf"
      },
      "execution_count": 10,
      "outputs": [
        {
          "output_type": "stream",
          "name": "stdout",
          "text": [
            "ParticleNet(\n",
            "  (Edgeconv1): ParticleNetLayer()\n",
            "  (Edgeconv2): ParticleNetLayer()\n",
            "  (Linear): Linear(in_features=64, out_features=1, bias=True)\n",
            "  (Sigmoid): Sigmoid()\n",
            ")\n"
          ]
        }
      ]
    },
    {
      "cell_type": "code",
      "execution_count": 11,
      "metadata": {
        "id": "N0phYFOhJ0NM",
        "colab": {
          "base_uri": "https://localhost:8080/"
        },
        "outputId": "92ad398e-52e9-45e7-e121-41bd12180759"
      },
      "outputs": [
        {
          "output_type": "stream",
          "name": "stdout",
          "text": [
            "GCNNet(\n",
            "  (Graphconv1): GCNConv(4, 32)\n",
            "  (Graphconv2): GCNConv(32, 64)\n",
            "  (Linear): Linear(in_features=64, out_features=1, bias=True)\n",
            "  (Sigmoid): Sigmoid()\n",
            ")\n"
          ]
        }
      ],
      "source": [
        "Gconv = geom_nn.GCNConv\n",
        "\n",
        "# This is a 2-layer Graph Convolutional Networks (GCN)\n",
        "class GCNNet(torch.nn.Module):\n",
        "    def __init__(self):\n",
        "        super().__init__()\n",
        "\n",
        "        self.Graphconv1 = Gconv(in_channels = 4, out_channels = 32)\n",
        "        self.Graphconv2 = Gconv(in_channels = 32, out_channels = 64)\n",
        "        self.Linear = Linear(64, 1)\n",
        "        self.Sigmoid = nn.Sigmoid()\n",
        "\n",
        "    def forward(self, data, batch):\n",
        "        edge_index = data.edge_index\n",
        "        x = data.x\n",
        "\n",
        "        x = self.Graphconv1(x=x, edge_index=edge_index)\n",
        "        x = x.relu()\n",
        "        x = self.Graphconv2(x=x, edge_index=edge_index)\n",
        "        x = x.relu()\n",
        "\n",
        "        # # 4. Global Pooling.\n",
        "        x = global_max_pool(x, batch)  # [num_examples, hidden_channels]\n",
        "        \n",
        "        # 5. Classifier.\n",
        "        return self.Sigmoid(self.Linear(x))\n",
        "\n",
        "\n",
        "model = GCNNet()\n",
        "print(model)"
      ]
    },
    {
      "cell_type": "code",
      "source": [
        "from IPython.display import Javascript  # Restrict height of output cell.\n",
        "display(Javascript('''google.colab.output.setIframeHeight(0, true, {maxHeight: 300})'''))\n",
        "from sklearn.metrics import roc_auc_score\n",
        "from torch_geometric.loader import DataLoader\n",
        " \n",
        "\n",
        "# splitting data into training and testing 70 - 30\n",
        "train_loader = DataLoader(dataset[:70000], batch_size=10, shuffle=True)\n",
        "test_loader = DataLoader(dataset[70000:], batch_size=10)\n",
        "\n",
        "\n",
        "lossplt = []\n",
        "accplt = []\n",
        "epochs = 10\n",
        "\n",
        "def train(model, optimizer, loader, criterion):\n",
        "    model.train()\n",
        "    total_loss = 0\n",
        "\n",
        "    for epoch,data in enumerate(loader):\n",
        "        optimizer.zero_grad()  # Clear gradients.\n",
        "        logits = model(data, data.batch).reshape(-1)  # Forward pass.\n",
        "        loss = criterion(logits, data.y)  # Loss computation.\n",
        "        loss.backward()  # Backward pass.\n",
        "        optimizer.step()  # Update model parameters.\n",
        "        total_loss += loss.item() * data.num_graphs\n",
        "\n",
        "    return total_loss / len(train_loader.dataset)\n",
        "\n",
        "\n",
        "@torch.no_grad()\n",
        "def test(model, loader):\n",
        "    model.eval()\n",
        "    total_correct = 0\n",
        "    batches = 0\n",
        "    for data in loader:\n",
        "        logits = model(data, data.batch)\n",
        "        pred = logits > 0.5\n",
        "        total_correct += int((pred == data.y.reshape(-1,1)).sum())\n",
        "\n",
        "    return total_correct / len(loader.dataset)\n",
        "\n",
        "\n",
        "def model_eval(model,train_loader,test_loader,epochs):\n",
        "\n",
        "  optimizer = torch.optim.Adam(model.parameters(), lr=1e-3)\n",
        "  criterion = nn.BCELoss()\n",
        "  \n",
        "  model.to(device)\n",
        "  lossplt = []\n",
        "  accplt = []\n",
        "\n",
        "  test_acc = test(model, test_loader)\n",
        "  accplt.append(test_acc)\n",
        "  \n",
        "  print(f'Epoch: 0, Test Accuracy: {test_acc:.4f}')\n",
        "  for epoch in range(1, epochs):\n",
        "      loss = train(model, optimizer, train_loader, criterion)\n",
        "      test_acc = test(model, test_loader)\n",
        "      print(f'Epoch: {epoch:02d}, Loss: {loss:.4f}, Test Accuracy: {test_acc:.4f}')\n",
        "      lossplt.append(loss)\n",
        "      accplt.append(test_acc)\n",
        "\n",
        "  return lossplt, accplt"
      ],
      "metadata": {
        "id": "nKeLSQQh9fWv",
        "colab": {
          "base_uri": "https://localhost:8080/",
          "height": 17
        },
        "outputId": "b73a2bf7-1512-40e9-b6e3-28a47c97997c"
      },
      "execution_count": 12,
      "outputs": [
        {
          "output_type": "display_data",
          "data": {
            "text/plain": [
              "<IPython.core.display.Javascript object>"
            ],
            "application/javascript": [
              "google.colab.output.setIframeHeight(0, true, {maxHeight: 300})"
            ]
          },
          "metadata": {}
        }
      ]
    },
    {
      "cell_type": "code",
      "execution_count": null,
      "metadata": {
        "id": "RaG1BV_CazT1",
        "colab": {
          "base_uri": "https://localhost:8080/"
        },
        "outputId": "dbceb061-4a69-4af6-e242-86d0e0302d94"
      },
      "outputs": [
        {
          "output_type": "stream",
          "name": "stdout",
          "text": [
            "ParticleNet\n",
            "Epoch: 0, Test Accuracy: 0.5043\n",
            "Epoch: 01, Loss: 0.5672, Test Accuracy: 0.7321\n"
          ]
        }
      ],
      "source": [
        "epochs = 10\n",
        "\n",
        "print(\"ParticleNet\")\n",
        "ParticleNetloss, ParticleNetAcc = model_eval(ParticleNet(),train_loader,test_loader,epochs)\n",
        "\n",
        "print(\"Graph Convolutional Network\")\n",
        "GCNloss, GCNAcc = model_eval(GCNNet(),train_loader,test_loader,epochs)"
      ]
    },
    {
      "cell_type": "code",
      "source": [
        "fig = plt.figure()\n",
        "fig.suptitle('Loss vs Epoch', fontsize=20)\n",
        "plt.xlabel('Epochs', fontsize=18)\n",
        "plt.ylabel('Loss', fontsize=16)\n",
        "plt.plot(np.arange(epochs-1),ParticleNetloss, 'r', label='ParticleNet')\n",
        "plt.legend()\n",
        "plt.plot(np.arange(epochs-1),GCNloss,'b', label='GCN')\n",
        "plt.legend()\n",
        "plt.show()"
      ],
      "metadata": {
        "id": "zrZr4EBUmt8j"
      },
      "execution_count": null,
      "outputs": []
    },
    {
      "cell_type": "code",
      "source": [
        "fig = plt.figure()\n",
        "fig.suptitle('Accuracy vs Epoch', fontsize=20)\n",
        "plt.xlabel('Epochs', fontsize=18)\n",
        "plt.ylabel('Accuracy', fontsize=16)\n",
        "plt.plot(np.arange(epochs),ParticleNetAcc, 'r', label='ParticleNet')\n",
        "plt.legend()\n",
        "plt.plot(np.arange(epochs),GCNAcc,'b', label='GCN')\n",
        "plt.legend()\n",
        "plt.show()"
      ],
      "metadata": {
        "id": "Vr4VQWWJuOhz"
      },
      "execution_count": null,
      "outputs": []
    }
  ],
  "metadata": {
    "colab": {
      "collapsed_sections": [],
      "name": "Graph Neural Network",
      "provenance": [],
      "include_colab_link": true
    },
    "kernelspec": {
      "display_name": "Python 3",
      "name": "python3"
    },
    "language_info": {
      "name": "python"
    },
    "accelerator": "GPU"
  },
  "nbformat": 4,
  "nbformat_minor": 0
}